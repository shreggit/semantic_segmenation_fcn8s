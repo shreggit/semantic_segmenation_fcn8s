{
 "cells": [
  {
   "cell_type": "code",
   "execution_count": 1,
   "metadata": {},
   "outputs": [],
   "source": [
    "from PIL import Image"
   ]
  },
  {
   "cell_type": "code",
   "execution_count": 3,
   "metadata": {},
   "outputs": [],
   "source": [
    "image = Image.open('CamVid/train_labels/Seq05VD_f03900_L.png').convert('RGB')"
   ]
  },
  {
   "cell_type": "code",
   "execution_count": 6,
   "metadata": {},
   "outputs": [
    {
     "data": {
      "text/plain": [
       "array([[[128,   0,   0],\n",
       "        [128,   0,   0],\n",
       "        [128,   0,   0],\n",
       "        ...,\n",
       "        [128, 128, 128],\n",
       "        [128, 128, 128],\n",
       "        [128, 128, 128]],\n",
       "\n",
       "       [[128,   0,   0],\n",
       "        [128,   0,   0],\n",
       "        [128,   0,   0],\n",
       "        ...,\n",
       "        [128, 128, 128],\n",
       "        [128, 128, 128],\n",
       "        [128, 128, 128]],\n",
       "\n",
       "       [[128,   0,   0],\n",
       "        [128,   0,   0],\n",
       "        [128,   0,   0],\n",
       "        ...,\n",
       "        [128, 128, 128],\n",
       "        [128, 128, 128],\n",
       "        [128, 128, 128]],\n",
       "\n",
       "       ...,\n",
       "\n",
       "       [[  0,   0, 192],\n",
       "        [  0,   0, 192],\n",
       "        [  0,   0, 192],\n",
       "        ...,\n",
       "        [128,  64, 128],\n",
       "        [128,  64, 128],\n",
       "        [128,  64, 128]],\n",
       "\n",
       "       [[  0,   0, 192],\n",
       "        [  0,   0, 192],\n",
       "        [  0,   0, 192],\n",
       "        ...,\n",
       "        [128,  64, 128],\n",
       "        [128,  64, 128],\n",
       "        [128,  64, 128]],\n",
       "\n",
       "       [[  0,   0, 192],\n",
       "        [  0,   0, 192],\n",
       "        [  0,   0, 192],\n",
       "        ...,\n",
       "        [128,  64, 128],\n",
       "        [128,  64, 128],\n",
       "        [128,  64, 128]]], dtype=uint8)"
      ]
     },
     "execution_count": 6,
     "metadata": {},
     "output_type": "execute_result"
    }
   ],
   "source": [
    "import numpy as np\n",
    "np.array(image)"
   ]
  },
  {
   "cell_type": "code",
   "execution_count": 9,
   "metadata": {},
   "outputs": [],
   "source": [
    "import pandas as pd\n",
    "df = pd.read_csv('CamVid/class_dict.csv')\n",
    "class_dict = {}\n",
    "for i, row in enumerate(df.values):\n",
    "    class_dict[i] = ((row[1], row[2], row[3], row[0]))\n"
   ]
  },
  {
   "cell_type": "code",
   "execution_count": 10,
   "metadata": {},
   "outputs": [
    {
     "data": {
      "text/plain": [
       "{0: ('Animal', 64, 128, 64),\n",
       " 1: ('Archway', 192, 0, 128),\n",
       " 2: ('Bicyclist', 0, 128, 192),\n",
       " 3: ('Bridge', 0, 128, 64),\n",
       " 4: ('Building', 128, 0, 0),\n",
       " 5: ('Car', 64, 0, 128),\n",
       " 6: ('CartLuggagePram', 64, 0, 192),\n",
       " 7: ('Child', 192, 128, 64),\n",
       " 8: ('Column_Pole', 192, 192, 128),\n",
       " 9: ('Fence', 64, 64, 128),\n",
       " 10: ('LaneMkgsDriv', 128, 0, 192),\n",
       " 11: ('LaneMkgsNonDriv', 192, 0, 64),\n",
       " 12: ('Misc_Text', 128, 128, 64),\n",
       " 13: ('MotorcycleScooter', 192, 0, 192),\n",
       " 14: ('OtherMoving', 128, 64, 64),\n",
       " 15: ('ParkingBlock', 64, 192, 128),\n",
       " 16: ('Pedestrian', 64, 64, 0),\n",
       " 17: ('Road', 128, 64, 128),\n",
       " 18: ('RoadShoulder', 128, 128, 192),\n",
       " 19: ('Sidewalk', 0, 0, 192),\n",
       " 20: ('SignSymbol', 192, 128, 128),\n",
       " 21: ('Sky', 128, 128, 128),\n",
       " 22: ('SUVPickupTruck', 64, 128, 192),\n",
       " 23: ('TrafficCone', 0, 0, 64),\n",
       " 24: ('TrafficLight', 0, 64, 64),\n",
       " 25: ('Train', 192, 64, 128),\n",
       " 26: ('Tree', 128, 128, 0),\n",
       " 27: ('Truck_Bus', 192, 128, 192),\n",
       " 28: ('Tunnel', 64, 0, 64),\n",
       " 29: ('VegetationMisc', 192, 192, 0),\n",
       " 30: ('Void', 0, 0, 0),\n",
       " 31: ('Wall', 64, 192, 0)}"
      ]
     },
     "execution_count": 10,
     "metadata": {},
     "output_type": "execute_result"
    }
   ],
   "source": [
    "class_dict"
   ]
  },
  {
   "cell_type": "code",
   "execution_count": null,
   "metadata": {},
   "outputs": [],
   "source": []
  }
 ],
 "metadata": {
  "kernelspec": {
   "display_name": "base",
   "language": "python",
   "name": "python3"
  },
  "language_info": {
   "codemirror_mode": {
    "name": "ipython",
    "version": 3
   },
   "file_extension": ".py",
   "mimetype": "text/x-python",
   "name": "python",
   "nbconvert_exporter": "python",
   "pygments_lexer": "ipython3",
   "version": "3.11.5"
  }
 },
 "nbformat": 4,
 "nbformat_minor": 2
}
